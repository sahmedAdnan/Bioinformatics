{
 "cells": [
  {
   "cell_type": "markdown",
   "id": "e758f491-2c9c-431d-a4cc-58df0e653f08",
   "metadata": {},
   "source": [
    "<h3 style=\"text-align:center;\">Project 1 \r",
    "    <br></br>\r\n",
    "\r\n",
    "    Group 7\r\n",
    "    Al Ashrif Bin Ahamed - 202402610\r\n",
    "    Shakil Ahmed - 202402609\r\n",
    "    Swantje Katharina Hänsch - 202007286\r\n",
    "    \r\n",
    "</h3>"
   ]
  },
  {
   "attachments": {},
   "cell_type": "markdown",
   "id": "877d11e3-0510-4df2-8bb4-89508e16dc9b",
   "metadata": {},
   "source": [
    "**Question 1: What is the optimal (here maximal) cost of an alignment of AATAAT and AAGG using the above substitution matrix and gap cost -5?**\n",
    "\n",
    "**Answer (By hand):** \n",
    "<div style=\"text-align:center\">\n",
    "    <img src=\"WhatsApp Image 2025-02-07 at 11.11.10 AM.jpeg\" alt=\"drawing\" width=\"400\" height = \"200\"/>\n",
    "</div>"
   ]
  },
  {
   "cell_type": "code",
   "execution_count": 8,
   "id": "a92de717-eb25-41bf-a175-cb635f284824",
   "metadata": {},
   "outputs": [],
   "source": [
    "# importing the necessary modules for the global alignment sequencing\n",
    "import numpy as np\n",
    "from Bio import SeqIO\n",
    "from Bio.Align import PairwiseAligner\n",
    "from Bio.Align.substitution_matrices import Array"
   ]
  },
  {
   "cell_type": "code",
   "execution_count": 9,
   "id": "734d7b7d-0fa1-40b8-a5d2-594f7e316064",
   "metadata": {},
   "outputs": [],
   "source": [
    "# For the fasta file parsing the sequence\n",
    "def read_fasta(file_path):\n",
    "    with open(file_path, \"r\") as file:\n",
    "        return str(next(SeqIO.parse(file, \"fasta\")).seq)"
   ]
  },
  {
   "cell_type": "code",
   "execution_count": 10,
   "id": "2d3f3587-24e8-4da6-b130-31748885fa2b",
   "metadata": {},
   "outputs": [],
   "source": [
    "# Given bases, substituition matrix and the sequences\n",
    "matrix_values = np.array([\n",
    "    [10,  2,  5,  2],  # A\n",
    "    [ 2, 10,  2,  5],  # C\n",
    "    [ 5,  2, 10,  2],  # G\n",
    "    [ 2,  5,  2, 10]   # T\n",
    "])\n",
    "bases = \"ACGT\"\n",
    "\n",
    "seq1 = \"AATAAT\"\n",
    "seq2 = \"AAGG\"\n",
    "\n",
    "seq1_fasta = read_fasta(\"seq1.fasta\")\n",
    "seq2_fasta = read_fasta(\"seq2.fasta\")"
   ]
  },
  {
   "cell_type": "markdown",
   "id": "3fc80c5d-b7c0-4827-9686-0682eb3a3a4a",
   "metadata": {},
   "source": [
    "**Question 1: What is the optimal (here maximal) cost of an alignment of AATAAT and AAGG using the above substitution matrix and gap cost -5?**\n",
    "\n",
    "**Answer**: We implemented using biopython.\n",
    "\n",
    "**and**\n",
    "\n",
    "**Question 2: What is the optimal (here maximal) cost of an alignment of seq1.fasta and seq2.fasta using the same substitution matrix and gap cost? (You probably want to implement the algorithm for computing the cost of an optimal alignment.)**\n",
    "\n",
    "**Answer (Implementation):** Below is the python implementation (with the help of biopython package) of optimal score calculation of given sequences `AATAAT` and `AAGG` including the `FASTA` file sequences. "
   ]
  },
  {
   "cell_type": "code",
   "execution_count": 11,
   "id": "4acabd46-f523-48c4-a827-0508d85f7e40",
   "metadata": {},
   "outputs": [
    {
     "name": "stdout",
     "output_type": "stream",
     "text": [
      "Optimal Alignment Score for AATAAT and AAGG: 20.0\n",
      "Optimal Alignment Score for FASTA file: 1346.0\n"
     ]
    }
   ],
   "source": [
    "substitution_matrix = Array(alphabet=bases, dims=2, data=matrix_values)  \n",
    "\n",
    "# Initialize pairwise aligner\n",
    "aligner = PairwiseAligner()\n",
    "aligner.mode = \"global\"  \n",
    "aligner.substitution_matrix = substitution_matrix  \n",
    "aligner.open_gap_score = -5\n",
    "aligner.extend_gap_score = -5  \n",
    "\n",
    "# Compute optimal alignment score\n",
    "optimal_score = aligner.score(seq1, seq2)\n",
    "optimal_score_fasta = aligner.score(seq1_fasta, seq2_fasta)\n",
    "print(f\"Optimal Alignment Score for {seq1} and {seq2}: {optimal_score}\")\n",
    "print(\"Optimal Alignment Score for FASTA file:\", optimal_score_fasta)"
   ]
  },
  {
   "cell_type": "markdown",
   "id": "f750353b-8678-4681-bb59-f4a7576a2c4c",
   "metadata": {},
   "source": [
    "**Question 3 (optional): How does an optimal alignment look like for the above two pairs of sequences using the given substitution matrix and gap cost -5? (you probably want to implement the algorithm for finding an optimal alignment by backtracking through the dynamic programming table.)**\n",
    "\n",
    "**Answer**: See the manual code below (without package). Because there is no specific package to do backtracking.\n",
    "\n",
    "and \n",
    "\n",
    "**Question 4 (optional): How many optimal alignments are for the above two pairs of sequences using the given substitution matrix and gap cost -5? Explain how you can compute the number of optimal alignments.**\n",
    "\n",
    "**Answer:** \n",
    "\n",
    "**Fill the Dynamic Programming (DP) Table**\n",
    "\n",
    "Firstly, we need to fill the DP (Dynamic Programming) table.\n",
    "- The DP table is constructed using the given **substitution matrix** and **gap penalty**.\n",
    "- Each cell `(i, j)` stores the **maximum alignment score** computed using:\n",
    "  - **Match/mismatch**:  `dp[i-1][j-1] + substitution_score(seq1[i-1], seq2[j-1])`\n",
    "  - **Insertion (gap in seq1)**: `dp[i][j-1] + gap_penalty`\n",
    "  - **Deletion (gap in seq2):** `dp[i-1][j] + gap_penalty`\n",
    "\n",
    "---\n",
    "\n",
    "**Construct the Backtracking Matrix**\n",
    "\n",
    "Secondly, we need to backtrack.\n",
    "- Instead of storing just the **best** move, we store **all possible moves** that result in the optimal score at each step.\n",
    "- At any cell `(i, j)`, if multiple moves lead to the **same optimal score**, we store **all of them**.\n",
    "- Starting from `dp[m][n]`, we **recursively explore all paths** back to `dp[0][0]`.\n",
    "- Each unique path corresponds to a **valid optimal alignment**.\n",
    "\n",
    "---"
   ]
  },
  {
   "cell_type": "code",
   "execution_count": 12,
   "id": "368caf1a-62ff-425a-9761-f8b74acf1a5b",
   "metadata": {},
   "outputs": [
    {
     "name": "stdout",
     "output_type": "stream",
     "text": [
      "\n",
      "Dynamic Programming Table:\n",
      "\n",
      "       -    A    A    G    G  \n",
      "   ─────────────────────────\n",
      " - │  0   -5   -10  -15  -20 \n",
      " A │ -5   10    5    0   -5  \n",
      " A │ -10   5   20   15   10  \n",
      " T │ -15   0   15   22   17  \n",
      " A │ -20  -5   10   20   27  \n",
      " A │ -25  -10   5   15   25  \n",
      " T │ -30  -15   0   10   20  \n",
      "\n",
      "Optimal Alignment Score for AATAAT and AAGG: 20\n",
      "Optimal possible alignments:  1\n",
      "The all optimal alignment look like:\n",
      "------------------------------\n",
      "AATAAT\n",
      "AA-GG-\n",
      "------------------------------\n"
     ]
    }
   ],
   "source": [
    "\"\"\"\n",
    "    Here we consider seq1= \"AATAAT\" and seq2= \"AAGG\". If you want to use the \n",
    "    FASTA file just change the seq1 =  read_fasta(\"seq1.fasta\") and \n",
    "    seq2 =  read_fasta(\"seq2.fasta\") file path.S\n",
    "\"\"\"\n",
    "base_to_index = {base: i for i, base in enumerate(bases)}\n",
    "\n",
    "gap_penalty = -5\n",
    "\n",
    "# Initialize DP table\n",
    "m, n = len(seq1), len(seq2)\n",
    "dp = np.zeros((m+1, n+1), dtype=int)\n",
    "\n",
    "# Fill the DP table\n",
    "for i in range(1, m+1):\n",
    "    dp[i][0] = dp[i-1][0] + gap_penalty\n",
    "for j in range(1, n+1):\n",
    "    dp[0][j] = dp[0][j-1] + gap_penalty\n",
    "\n",
    "for i in range(1, m+1):\n",
    "    for j in range(1, n+1):\n",
    "        match = dp[i-1][j-1] + matrix_values[base_to_index[seq1[i-1]], base_to_index[seq2[j-1]]]\n",
    "        delete = dp[i-1][j] + gap_penalty\n",
    "        insert = dp[i][j-1] + gap_penalty\n",
    "        dp[i][j] = max(match, delete, insert)\n",
    "\n",
    "# Get the optimal alignment score\n",
    "optimal_score = dp[m][n]\n",
    "\n",
    "# Function to backtrack and find all optimal alignments\n",
    "def backtrack(i, j, aligned_seq1, aligned_seq2, results):\n",
    "    if i == 0 and j == 0:\n",
    "        results.append((aligned_seq1[::-1], aligned_seq2[::-1]))  # Reverse the alignment and store\n",
    "        return\n",
    "    \n",
    "    # Move diagonally (match/mismatch)\n",
    "    if i > 0 and j > 0 and dp[i][j] == dp[i-1][j-1] + matrix_values[base_to_index[seq1[i-1]], base_to_index[seq2[j-1]]]:\n",
    "        backtrack(i-1, j-1, aligned_seq1 + seq1[i-1], aligned_seq2 + seq2[j-1], results)\n",
    "    \n",
    "    # Move up (deletion)\n",
    "    if i > 0 and dp[i][j] == dp[i-1][j] + gap_penalty:\n",
    "        backtrack(i-1, j, aligned_seq1 + seq1[i-1], aligned_seq2 + \"-\", results)\n",
    "    \n",
    "    # Move left (insertion)\n",
    "    if j > 0 and dp[i][j] == dp[i][j-1] + gap_penalty:\n",
    "        backtrack(i, j-1, aligned_seq1 + \"-\", aligned_seq2 + seq2[j-1], results)\n",
    "\n",
    "# Store all optimal alignments\n",
    "results = []\n",
    "backtrack(m, n, \"\", \"\", results)\n",
    "\n",
    "\"\"\" \n",
    "    This section (below) is a construction of dynamic programming table. \n",
    "    This is visually appealing when the sequences are small. However, it\n",
    "    can be ignored when we deal with FASTA file (large) sequence.\n",
    "\"\"\"\n",
    "\n",
    "# Print the DP table in a visually appealing format\n",
    "print(\"\\nDynamic Programming Table:\\n\")\n",
    "\n",
    "# Print column headers (seq2 with spaces for alignment)\n",
    "print(\"     \", end=\"\")\n",
    "for char in \"-\" + seq2:\n",
    "    print(f\"  {char}  \", end=\"\")\n",
    "print(\"\\n   \" + \"─────\" * (n+1))  # Horizontal separator\n",
    "\n",
    "# Print DP table row by row\n",
    "for i in range(m+1):\n",
    "    row_label = seq1[i-1] if i > 0 else \"-\"\n",
    "    print(f\" {row_label} │\", end=\"\")  \n",
    "\n",
    "    # Print DP values with spacing\n",
    "    for j in range(n+1):\n",
    "        print(f\"{dp[i][j]:^5}\", end=\"\")  \n",
    "    print()  \n",
    "\n",
    "print(f\"\\nOptimal Alignment Score for {seq1} and {seq2}: {optimal_score}\")\n",
    "print(\"Optimal possible alignments: \", len(results))\n",
    "print(\"The all optimal alignment look like:\")\n",
    "print(\"-\" * 30)\n",
    "for aligned_seq1, aligned_seq2 in results:\n",
    "    print(aligned_seq1)\n",
    "    print(aligned_seq2)\n",
    "    print(\"-\" * 30)"
   ]
  },
  {
   "cell_type": "code",
   "execution_count": null,
   "id": "6f120c98-2ced-4abd-b906-55d4c09ab238",
   "metadata": {},
   "outputs": [],
   "source": []
  }
 ],
 "metadata": {
  "kernelspec": {
   "display_name": "Python 3 (ipykernel)",
   "language": "python",
   "name": "python3"
  },
  "language_info": {
   "codemirror_mode": {
    "name": "ipython",
    "version": 3
   },
   "file_extension": ".py",
   "mimetype": "text/x-python",
   "name": "python",
   "nbconvert_exporter": "python",
   "pygments_lexer": "ipython3",
   "version": "3.12.4"
  }
 },
 "nbformat": 4,
 "nbformat_minor": 5
}
